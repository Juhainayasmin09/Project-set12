{
  "nbformat": 4,
  "nbformat_minor": 0,
  "metadata": {
    "colab": {
      "provenance": [],
      "authorship_tag": "ABX9TyPPKhD/OKBpZaWe21vqADtn",
      "include_colab_link": true
    },
    "kernelspec": {
      "name": "python3",
      "display_name": "Python 3"
    },
    "language_info": {
      "name": "python"
    }
  },
  "cells": [
    {
      "cell_type": "markdown",
      "metadata": {
        "id": "view-in-github",
        "colab_type": "text"
      },
      "source": [
        "<a href=\"https://colab.research.google.com/github/Juhainayasmin09/Project-set12/blob/main/set12_Juhaina.ipynb\" target=\"_parent\"><img src=\"https://colab.research.google.com/assets/colab-badge.svg\" alt=\"Open In Colab\"/></a>"
      ]
    },
    {
      "cell_type": "code",
      "execution_count": null,
      "metadata": {
        "id": "Z7gjtlBvX9r9"
      },
      "outputs": [],
      "source": [
        "# Load the CSV file and examine its structure\n",
        "import pandas as pd\n",
        "import numpy as np\n",
        "from sklearn.preprocessing import MinMaxScaler\n",
        "\n",
        "# Load the data\n",
        "df = pd.read_csv('SET-12.csv', encoding='ascii')\n",
        "\n",
        "print(\"Dataset shape:\", df.shape)\n",
        "print(\"\\\n",
        "Column names:\", df.columns.tolist())\n",
        "print(\"\\\n",
        "First few rows:\")\n",
        "print(df.head())\n",
        "print(\"\\\n",
        "Data types:\")\n",
        "print(df.dtypes)\n",
        "print(\"\\\n",
        "Missing values:\")\n",
        "print(df.isnull().sum())"
      ]
    },
    {
      "cell_type": "code",
      "source": [
        "# Fill missing values with mean of the column (for numerical columns only)\n",
        "print(\"Before filling missing values:\")\n",
        "print(df.isnull().sum())\n",
        "\n",
        "# Fill missing values in numerical columns with their mean\n",
        "numerical_cols = ['Math', 'Science', 'Age']\n",
        "for col in numerical_cols:\n",
        "    if col in df.columns and df[col].dtype in ['float64', 'int64']:\n",
        "        mean_value = df[col].mean()\n",
        "        df[col] = df[col].fillna(mean_value)\n",
        "        print(f\"Filled missing values in {col} with mean: {mean_value}\")\n",
        "\n",
        "print(\"After filling missing values:\")\n",
        "print(df.isnull().sum())\n",
        "print(\"Dataset after filling missing values:\")\n",
        "print(df)"
      ],
      "metadata": {
        "id": "DlgCDHC7Yp-o"
      },
      "execution_count": null,
      "outputs": []
    },
    {
      "cell_type": "code",
      "source": [
        "# Identify and drop duplicate records\n",
        "print(\"Before removing duplicates:\")\n",
        "print(\"Dataset shape:\", df.shape)\n",
        "print(\"Duplicate rows:\")\n",
        "duplicates = df.duplicated()\n",
        "print(duplicates.sum(), \"duplicate rows found\")\n",
        "\n",
        "# Check for duplicates more carefully (considering whitespace in names)\n",
        "df['Name'] = df['Name'].str.strip()  # Remove leading/trailing whitespace\n",
        "print(\"\\\n",
        "After cleaning whitespace in names:\")\n",
        "duplicates_after_clean = df.duplicated()\n",
        "print(duplicates_after_clean.sum(), \"duplicate rows found\")\n",
        "\n",
        "# Drop duplicates\n",
        "df_clean = df.drop_duplicates()\n",
        "print(\"\\\n",
        "After removing duplicates:\")\n",
        "print(\"Dataset shape:\", df_clean.shape)\n",
        "print(df_clean)"
      ],
      "metadata": {
        "id": "7oFP6VAcYt_s"
      },
      "execution_count": null,
      "outputs": []
    },
    {
      "cell_type": "code",
      "source": [
        "# Apply normalization to numerical columns\n",
        "print(\"Before normalization:\")\n",
        "print(df_clean[['Math', 'Science', 'Age']].describe())\n",
        "\n",
        "# Initialize MinMaxScaler for normalization (scales to 0-1 range)\n",
        "scaler = MinMaxScaler()\n",
        "\n",
        "# Apply normalization to numerical columns\n",
        "numerical_cols = ['Math', 'Science', 'Age']\n",
        "df_normalized = df_clean.copy()\n",
        "\n",
        "# Normalize each numerical column\n",
        "for col in numerical_cols:\n",
        "    df_normalized[col] = scaler.fit_transform(df_clean[[col]])\n",
        "\n",
        "print(\"\\\n",
        "After normalization:\")\n",
        "print(df_normalized[['Math', 'Science', 'Age']].describe())\n",
        "print(\"\\\n",
        "Normalized dataset:\")\n",
        "print(df_normalized)"
      ],
      "metadata": {
        "id": "Ud6Xw5glYx9V"
      },
      "execution_count": null,
      "outputs": []
    },
    {
      "cell_type": "code",
      "source": [
        "# Discretize scores using binning into 3 categories\n",
        "# We'll bin the Math and Science scores into Low, Medium, High categories\n",
        "\n",
        "df_binned = df_normalized.copy()\n",
        "\n",
        "# Define binning for Math and Science scores (using original values for better interpretation)\n",
        "def create_bins(series, labels=['Low', 'Medium', 'High']):\n",
        "    return pd.cut(series, bins=3, labels=labels)\n",
        "\n",
        "# Apply binning to Math and Science columns (using original values)\n",
        "df_binned['Math_Binned'] = create_bins(df_clean['Math'])\n",
        "df_binned['Science_Binned'] = create_bins(df_clean['Science'])\n",
        "\n",
        "print(\"Binned categories for Math and Science:\")\n",
        "print(\"\\\n",
        "Math score ranges:\")\n",
        "print(pd.cut(df_clean['Math'], bins=3).value_counts().sort_index())\n",
        "print(\"\\\n",
        "Science score ranges:\")\n",
        "print(pd.cut(df_clean['Science'], bins=3).value_counts().sort_index())\n",
        "\n",
        "print(\"\\\n",
        "Dataset with binned categories:\")\n",
        "print(df_binned[['Name', 'Math', 'Science', 'Math_Binned', 'Science_Binned']])"
      ],
      "metadata": {
        "id": "z2Nr5GjvYwxj"
      },
      "execution_count": null,
      "outputs": []
    },
    {
      "cell_type": "code",
      "source": [
        "# Remove noise values using binning method\n",
        "# The Age column has a negative value (-23) which appears to be noise\n",
        "# We'll use binning to smooth out this noise\n",
        "\n",
        "print(\"Original Age values:\")\n",
        "print(df_clean['Age'].values)\n",
        "\n",
        "# Create bins for Age to remove noise\n",
        "# We'll use equal-width binning and then replace values with bin centers\n",
        "age_bins = pd.cut(df_clean['Age'], bins=3, precision=0)\n",
        "print(\"\\\n",
        "Age bins:\")\n",
        "print(age_bins.value_counts().sort_index())\n",
        "\n",
        "# Replace Age values with bin centers to remove noise\n",
        "bin_centers = []\n",
        "for interval in age_bins:\n",
        "    if pd.notna(interval):\n",
        "        center = (interval.left + interval.right) / 2\n",
        "        bin_centers.append(center)\n",
        "    else:\n",
        "        bin_centers.append(np.nan)\n",
        "\n",
        "df_final = df_binned.copy()\n",
        "df_final['Age_Denoised'] = bin_centers\n",
        "\n",
        "print(\"\\\n",
        "Age values after denoising (bin centers):\")\n",
        "print(df_final['Age_Denoised'].values)\n",
        "\n",
        "print(\"\\\n",
        "Final processed dataset:\")\n",
        "print(df_final)"
      ],
      "metadata": {
        "id": "2fX1D6oGY1y5"
      },
      "execution_count": null,
      "outputs": []
    },
    {
      "cell_type": "code",
      "source": [
        "# Save the final processed dataset\n",
        "df_final.to_csv('processed_dataset.csv', index=False)\n",
        "print(\"Final processed dataset saved as 'processed_dataset.csv'\")\n",
        "\n",
        "# Summary of all preprocessing steps performed\n",
        "print(\"\\\n",
        "=== DATA PREPROCESSING SUMMARY ===\")\n",
        "print(\"1. Loaded dataset with shape:\", df.shape)\n",
        "print(\"2. Filled missing values with column means\")\n",
        "print(\"3. Removed duplicate records (1 duplicate found and removed)\")\n",
        "print(\"4. Applied Min-Max normalization to numerical columns\")\n",
        "print(\"5. Created binned categories for Math and Science scores (Low/Medium/High)\")\n",
        "print(\"6. Applied denoising to Age column using binning method\")\n",
        "print(\"\\\n",
        "Final dataset shape:\", df_final.shape)\n",
        "print(\"Columns in final dataset:\", df_final.columns.tolist())"
      ],
      "metadata": {
        "id": "Iq6AFZNXY30H"
      },
      "execution_count": null,
      "outputs": []
    }
  ]
}