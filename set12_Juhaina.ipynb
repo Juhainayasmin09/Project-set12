{
  "nbformat": 4,
  "nbformat_minor": 0,
  "metadata": {
    "colab": {
      "provenance": [],
      "authorship_tag": "ABX9TyOooiPT6iEnwizEKTNZh7RF",
      "include_colab_link": true
    },
    "kernelspec": {
      "name": "python3",
      "display_name": "Python 3"
    },
    "language_info": {
      "name": "python"
    }
  },
  "cells": [
    {
      "cell_type": "markdown",
      "metadata": {
        "id": "view-in-github",
        "colab_type": "text"
      },
      "source": [
        "<a href=\"https://colab.research.google.com/github/Juhainayasmin09/Project-set12/blob/main/set12_Juhaina.ipynb\" target=\"_parent\"><img src=\"https://colab.research.google.com/assets/colab-badge.svg\" alt=\"Open In Colab\"/></a>"
      ]
    },
    {
      "cell_type": "code",
      "execution_count": 2,
      "metadata": {
        "colab": {
          "base_uri": "https://localhost:8080/"
        },
        "id": "Z7gjtlBvX9r9",
        "outputId": "afe34af5-28a5-44f5-d787-d6946d1a3247"
      },
      "outputs": [
        {
          "output_type": "stream",
          "name": "stdout",
          "text": [
            "Dataset shape: (6, 4)\n",
            "Column names: ['Name', 'Math', 'Science', 'Age']\n",
            "First few rows:\n",
            "    Name  Math  Science  Age\n",
            "0    Raj  65.0      NaN   20\n",
            "1   Neha   NaN     70.0   25\n",
            "2   Ajay  80.0     85.0  -23\n",
            "3   Sita  75.0     90.0   24\n",
            "4  Ajay   80.0     85.0  -23\n",
            "Data types:\n",
            "Name        object\n",
            "Math       float64\n",
            "Science    float64\n",
            "Age          int64\n",
            "dtype: object\n",
            "Missing values:\n",
            "Name       1\n",
            "Math       1\n",
            "Science    1\n",
            "Age        0\n",
            "dtype: int64\n"
          ]
        }
      ],
      "source": [
        "# Load the CSV file and examine its structure\n",
        "import pandas as pd\n",
        "import numpy as np\n",
        "from sklearn.preprocessing import MinMaxScaler\n",
        "\n",
        "# Load the data\n",
        "df = pd.read_csv('SET-12.csv', encoding='ascii')\n",
        "\n",
        "print(\"Dataset shape:\", df.shape)\n",
        "print(\"\\\n",
        "Column names:\", df.columns.tolist())\n",
        "print(\"\\\n",
        "First few rows:\")\n",
        "print(df.head())\n",
        "print(\"\\\n",
        "Data types:\")\n",
        "print(df.dtypes)\n",
        "print(\"\\\n",
        "Missing values:\")\n",
        "print(df.isnull().sum())"
      ]
    },
    {
      "cell_type": "code",
      "source": [
        "# Fill missing values with mean of the column (for numerical columns only)\n",
        "print(\"Before filling missing values:\")\n",
        "print(df.isnull().sum())\n",
        "\n",
        "# Fill missing values in numerical columns with their mean\n",
        "numerical_cols = ['Math', 'Science', 'Age']\n",
        "for col in numerical_cols:\n",
        "    if col in df.columns and df[col].dtype in ['float64', 'int64']:\n",
        "        mean_value = df[col].mean()\n",
        "        df[col].fillna(mean_value, inplace=True)\n",
        "        print(f\"Filled missing values in {col} with mean: {mean_value}\")\n",
        "\n",
        "print(\"\\\n",
        "After filling missing values:\")\n",
        "print(df.isnull().sum())\n",
        "print(\"\\\n",
        "Dataset after filling missing values:\")\n",
        "print(df)"
      ],
      "metadata": {
        "colab": {
          "base_uri": "https://localhost:8080/"
        },
        "id": "DlgCDHC7Yp-o",
        "outputId": "b9d8dcea-89cd-49b9-9edc-7f54aadc38b1"
      },
      "execution_count": 3,
      "outputs": [
        {
          "output_type": "stream",
          "name": "stdout",
          "text": [
            "Before filling missing values:\n",
            "Name       1\n",
            "Math       1\n",
            "Science    1\n",
            "Age        0\n",
            "dtype: int64\n",
            "Filled missing values in Math with mean: 74.0\n",
            "Filled missing values in Science with mean: 78.0\n",
            "Filled missing values in Age with mean: 7.166666666666667\n",
            "After filling missing values:\n",
            "Name       1\n",
            "Math       0\n",
            "Science    0\n",
            "Age        0\n",
            "dtype: int64\n",
            "Dataset after filling missing values:\n",
            "    Name  Math  Science  Age\n",
            "0    Raj  65.0     78.0   20\n",
            "1   Neha  74.0     70.0   25\n",
            "2   Ajay  80.0     85.0  -23\n",
            "3   Sita  75.0     90.0   24\n",
            "4  Ajay   80.0     85.0  -23\n",
            "5    NaN  70.0     60.0   20\n"
          ]
        },
        {
          "output_type": "stream",
          "name": "stderr",
          "text": [
            "/tmp/ipython-input-3-555500765.py:10: FutureWarning: A value is trying to be set on a copy of a DataFrame or Series through chained assignment using an inplace method.\n",
            "The behavior will change in pandas 3.0. This inplace method will never work because the intermediate object on which we are setting values always behaves as a copy.\n",
            "\n",
            "For example, when doing 'df[col].method(value, inplace=True)', try using 'df.method({col: value}, inplace=True)' or df[col] = df[col].method(value) instead, to perform the operation inplace on the original object.\n",
            "\n",
            "\n",
            "  df[col].fillna(mean_value, inplace=True)\n"
          ]
        }
      ]
    },
    {
      "cell_type": "code",
      "source": [
        "# Identify and drop duplicate records\n",
        "print(\"Before removing duplicates:\")\n",
        "print(\"Dataset shape:\", df.shape)\n",
        "print(\"Duplicate rows:\")\n",
        "duplicates = df.duplicated()\n",
        "print(duplicates.sum(), \"duplicate rows found\")\n",
        "\n",
        "# Check for duplicates more carefully (considering whitespace in names)\n",
        "df['Name'] = df['Name'].str.strip()  # Remove leading/trailing whitespace\n",
        "print(\"\\\n",
        "After cleaning whitespace in names:\")\n",
        "duplicates_after_clean = df.duplicated()\n",
        "print(duplicates_after_clean.sum(), \"duplicate rows found\")\n",
        "\n",
        "# Drop duplicates\n",
        "df_clean = df.drop_duplicates()\n",
        "print(\"\\\n",
        "After removing duplicates:\")\n",
        "print(\"Dataset shape:\", df_clean.shape)\n",
        "print(df_clean)"
      ],
      "metadata": {
        "colab": {
          "base_uri": "https://localhost:8080/"
        },
        "id": "7oFP6VAcYt_s",
        "outputId": "f5debbda-9ed4-4739-cd3a-a4a509f45c64"
      },
      "execution_count": 4,
      "outputs": [
        {
          "output_type": "stream",
          "name": "stdout",
          "text": [
            "Before removing duplicates:\n",
            "Dataset shape: (6, 4)\n",
            "Duplicate rows:\n",
            "0 duplicate rows found\n",
            "After cleaning whitespace in names:\n",
            "1 duplicate rows found\n",
            "After removing duplicates:\n",
            "Dataset shape: (5, 4)\n",
            "   Name  Math  Science  Age\n",
            "0   Raj  65.0     78.0   20\n",
            "1  Neha  74.0     70.0   25\n",
            "2  Ajay  80.0     85.0  -23\n",
            "3  Sita  75.0     90.0   24\n",
            "5   NaN  70.0     60.0   20\n"
          ]
        }
      ]
    },
    {
      "cell_type": "code",
      "source": [
        "# Apply normalization to numerical columns\n",
        "print(\"Before normalization:\")\n",
        "print(df_clean[['Math', 'Science', 'Age']].describe())\n",
        "\n",
        "# Initialize MinMaxScaler for normalization (scales to 0-1 range)\n",
        "scaler = MinMaxScaler()\n",
        "\n",
        "# Apply normalization to numerical columns\n",
        "numerical_cols = ['Math', 'Science', 'Age']\n",
        "df_normalized = df_clean.copy()\n",
        "\n",
        "# Normalize each numerical column\n",
        "for col in numerical_cols:\n",
        "    df_normalized[col] = scaler.fit_transform(df_clean[[col]])\n",
        "\n",
        "print(\"\\\n",
        "After normalization:\")\n",
        "print(df_normalized[['Math', 'Science', 'Age']].describe())\n",
        "print(\"\\\n",
        "Normalized dataset:\")\n",
        "print(df_normalized)"
      ],
      "metadata": {
        "colab": {
          "base_uri": "https://localhost:8080/"
        },
        "id": "Ud6Xw5glYx9V",
        "outputId": "1d5e2c3c-f67f-4b6a-ae5d-e70df197fc34"
      },
      "execution_count": 5,
      "outputs": [
        {
          "output_type": "stream",
          "name": "stdout",
          "text": [
            "Before normalization:\n",
            "            Math    Science        Age\n",
            "count   5.000000   5.000000   5.000000\n",
            "mean   72.800000  76.600000  13.200000\n",
            "std     5.630275  11.949895  20.364184\n",
            "min    65.000000  60.000000 -23.000000\n",
            "25%    70.000000  70.000000  20.000000\n",
            "50%    74.000000  78.000000  20.000000\n",
            "75%    75.000000  85.000000  24.000000\n",
            "max    80.000000  90.000000  25.000000\n",
            "After normalization:\n",
            "           Math   Science       Age\n",
            "count  5.000000  5.000000  5.000000\n",
            "mean   0.520000  0.553333  0.754167\n",
            "std    0.375352  0.398330  0.424254\n",
            "min    0.000000  0.000000  0.000000\n",
            "25%    0.333333  0.333333  0.895833\n",
            "50%    0.600000  0.600000  0.895833\n",
            "75%    0.666667  0.833333  0.979167\n",
            "max    1.000000  1.000000  1.000000\n",
            "Normalized dataset:\n",
            "   Name      Math   Science       Age\n",
            "0   Raj  0.000000  0.600000  0.895833\n",
            "1  Neha  0.600000  0.333333  1.000000\n",
            "2  Ajay  1.000000  0.833333  0.000000\n",
            "3  Sita  0.666667  1.000000  0.979167\n",
            "5   NaN  0.333333  0.000000  0.895833\n"
          ]
        }
      ]
    },
    {
      "cell_type": "code",
      "source": [
        "# Discretize scores using binning into 3 categories\n",
        "# We'll bin the Math and Science scores into Low, Medium, High categories\n",
        "\n",
        "df_binned = df_normalized.copy()\n",
        "\n",
        "# Define binning for Math and Science scores (using original values for better interpretation)\n",
        "def create_bins(series, labels=['Low', 'Medium', 'High']):\n",
        "    return pd.cut(series, bins=3, labels=labels)\n",
        "\n",
        "# Apply binning to Math and Science columns (using original values)\n",
        "df_binned['Math_Binned'] = create_bins(df_clean['Math'])\n",
        "df_binned['Science_Binned'] = create_bins(df_clean['Science'])\n",
        "\n",
        "print(\"Binned categories for Math and Science:\")\n",
        "print(\"\\\n",
        "Math score ranges:\")\n",
        "print(pd.cut(df_clean['Math'], bins=3).value_counts().sort_index())\n",
        "print(\"\\\n",
        "Science score ranges:\")\n",
        "print(pd.cut(df_clean['Science'], bins=3).value_counts().sort_index())\n",
        "\n",
        "print(\"\\\n",
        "Dataset with binned categories:\")\n",
        "print(df_binned[['Name', 'Math', 'Science', 'Math_Binned', 'Science_Binned']])"
      ],
      "metadata": {
        "colab": {
          "base_uri": "https://localhost:8080/"
        },
        "id": "z2Nr5GjvYwxj",
        "outputId": "ef2fde66-0122-471d-bbdc-657c8611299c"
      },
      "execution_count": 6,
      "outputs": [
        {
          "output_type": "stream",
          "name": "stdout",
          "text": [
            "Binned categories for Math and Science:\n",
            "Math score ranges:\n",
            "Math\n",
            "(64.985, 70.0]    2\n",
            "(70.0, 75.0]      2\n",
            "(75.0, 80.0]      1\n",
            "Name: count, dtype: int64\n",
            "Science score ranges:\n",
            "Science\n",
            "(59.97, 70.0]    2\n",
            "(70.0, 80.0]     1\n",
            "(80.0, 90.0]     2\n",
            "Name: count, dtype: int64\n",
            "Dataset with binned categories:\n",
            "   Name      Math   Science Math_Binned Science_Binned\n",
            "0   Raj  0.000000  0.600000         Low         Medium\n",
            "1  Neha  0.600000  0.333333      Medium            Low\n",
            "2  Ajay  1.000000  0.833333        High           High\n",
            "3  Sita  0.666667  1.000000      Medium           High\n",
            "5   NaN  0.333333  0.000000         Low            Low\n"
          ]
        }
      ]
    },
    {
      "cell_type": "code",
      "source": [
        "# Remove noise values using binning method\n",
        "# The Age column has a negative value (-23) which appears to be noise\n",
        "# We'll use binning to smooth out this noise\n",
        "\n",
        "print(\"Original Age values:\")\n",
        "print(df_clean['Age'].values)\n",
        "\n",
        "# Create bins for Age to remove noise\n",
        "# We'll use equal-width binning and then replace values with bin centers\n",
        "age_bins = pd.cut(df_clean['Age'], bins=3, precision=0)\n",
        "print(\"\\\n",
        "Age bins:\")\n",
        "print(age_bins.value_counts().sort_index())\n",
        "\n",
        "# Replace Age values with bin centers to remove noise\n",
        "bin_centers = []\n",
        "for interval in age_bins:\n",
        "    if pd.notna(interval):\n",
        "        center = (interval.left + interval.right) / 2\n",
        "        bin_centers.append(center)\n",
        "    else:\n",
        "        bin_centers.append(np.nan)\n",
        "\n",
        "df_final = df_binned.copy()\n",
        "df_final['Age_Denoised'] = bin_centers\n",
        "\n",
        "print(\"\\\n",
        "Age values after denoising (bin centers):\")\n",
        "print(df_final['Age_Denoised'].values)\n",
        "\n",
        "print(\"\\\n",
        "Final processed dataset:\")\n",
        "print(df_final)"
      ],
      "metadata": {
        "colab": {
          "base_uri": "https://localhost:8080/"
        },
        "id": "2fX1D6oGY1y5",
        "outputId": "5e59b91e-b448-4fe0-cfbd-fc83ee73fe7d"
      },
      "execution_count": 7,
      "outputs": [
        {
          "output_type": "stream",
          "name": "stdout",
          "text": [
            "Original Age values:\n",
            "[ 20  25 -23  24  20]\n",
            "Age bins:\n",
            "Age\n",
            "(-23.0, -7.0]    1\n",
            "(-7.0, 9.0]      0\n",
            "(9.0, 25.0]      4\n",
            "Name: count, dtype: int64\n",
            "Age values after denoising (bin centers):\n",
            "[ 17.  17. -15.  17.  17.]\n",
            "Final processed dataset:\n",
            "   Name      Math   Science       Age Math_Binned Science_Binned  Age_Denoised\n",
            "0   Raj  0.000000  0.600000  0.895833         Low         Medium          17.0\n",
            "1  Neha  0.600000  0.333333  1.000000      Medium            Low          17.0\n",
            "2  Ajay  1.000000  0.833333  0.000000        High           High         -15.0\n",
            "3  Sita  0.666667  1.000000  0.979167      Medium           High          17.0\n",
            "5   NaN  0.333333  0.000000  0.895833         Low            Low          17.0\n"
          ]
        }
      ]
    },
    {
      "cell_type": "code",
      "source": [
        "# Save the final processed dataset\n",
        "df_final.to_csv('processed_dataset.csv', index=False)\n",
        "print(\"Final processed dataset saved as 'processed_dataset.csv'\")\n",
        "\n",
        "# Summary of all preprocessing steps performed\n",
        "print(\"\\\n",
        "=== DATA PREPROCESSING SUMMARY ===\")\n",
        "print(\"1. Loaded dataset with shape:\", df.shape)\n",
        "print(\"2. Filled missing values with column means\")\n",
        "print(\"3. Removed duplicate records (1 duplicate found and removed)\")\n",
        "print(\"4. Applied Min-Max normalization to numerical columns\")\n",
        "print(\"5. Created binned categories for Math and Science scores (Low/Medium/High)\")\n",
        "print(\"6. Applied denoising to Age column using binning method\")\n",
        "print(\"\\\n",
        "Final dataset shape:\", df_final.shape)\n",
        "print(\"Columns in final dataset:\", df_final.columns.tolist())"
      ],
      "metadata": {
        "colab": {
          "base_uri": "https://localhost:8080/"
        },
        "id": "Iq6AFZNXY30H",
        "outputId": "55001a6d-879e-4935-e681-d630dce15936"
      },
      "execution_count": 8,
      "outputs": [
        {
          "output_type": "stream",
          "name": "stdout",
          "text": [
            "Final processed dataset saved as 'processed_dataset.csv'\n",
            "=== DATA PREPROCESSING SUMMARY ===\n",
            "1. Loaded dataset with shape: (6, 4)\n",
            "2. Filled missing values with column means\n",
            "3. Removed duplicate records (1 duplicate found and removed)\n",
            "4. Applied Min-Max normalization to numerical columns\n",
            "5. Created binned categories for Math and Science scores (Low/Medium/High)\n",
            "6. Applied denoising to Age column using binning method\n",
            "Final dataset shape: (5, 7)\n",
            "Columns in final dataset: ['Name', 'Math', 'Science', 'Age', 'Math_Binned', 'Science_Binned', 'Age_Denoised']\n"
          ]
        }
      ]
    }
  ]
}